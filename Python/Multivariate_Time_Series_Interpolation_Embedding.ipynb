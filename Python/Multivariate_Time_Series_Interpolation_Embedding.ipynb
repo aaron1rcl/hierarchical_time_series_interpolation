{
  "nbformat": 4,
  "nbformat_minor": 0,
  "metadata": {
    "colab": {
      "provenance": []
    },
    "kernelspec": {
      "name": "python3",
      "display_name": "Python 3"
    },
    "language_info": {
      "name": "python"
    }
  },
  "cells": [
    {
      "cell_type": "code",
      "source": [
        "!pip install pyro-ppl\n",
        "!pip install umap-learn"
      ],
      "metadata": {
        "id": "gMnQPwFrqtV5"
      },
      "execution_count": null,
      "outputs": []
    },
    {
      "cell_type": "code",
      "source": [
        "import numpy as np\n",
        "import pandas as pd\n",
        "import statsmodels.api as sm\n",
        "import statsmodels.formula.api as smf\n",
        "import matplotlib.pyplot as plt\n",
        "import pyro\n",
        "import pyro.distributions as dist\n",
        "from pyro.infer import MCMC, NUTS\n",
        "import torch\n",
        "import time\n",
        "import torch\n",
        "import torch.nn as nn\n",
        "import torch.optim as optim\n",
        "import umap\n",
        "import time\n",
        "\n"
      ],
      "metadata": {
        "id": "x8GBrWVSHFpC"
      },
      "execution_count": 4,
      "outputs": []
    },
    {
      "cell_type": "code",
      "source": [
        "# Set the number of time steps\n",
        "n_steps = 100\n",
        "# Set the number of random walks\n",
        "n_walks = 100\n",
        "batch = 100\n",
        "iter = int(n_walks/batch)\n",
        "\n",
        "# To avoid scaling issues, im going to simplify the multivariate random number generation and split the process into i independent iterations\n",
        "# Generate random walks with the same mean and variance\n",
        "np.random.seed(123)\n",
        "cov_matrix = np.diag(np.zeros(n_walks) + 1)\n",
        "cov_matrix[cov_matrix==0] = 0.1\n",
        "random_walks = np.random.multivariate_normal(np.zeros(n_walks), cov_matrix, size=n_steps)\n",
        "random_walks = np.cumsum(random_walks, axis=0)\n",
        "\n",
        "\n",
        "\n",
        "\n",
        "\n"
      ],
      "metadata": {
        "id": "eM9fDIgmVicj"
      },
      "execution_count": 5,
      "outputs": []
    },
    {
      "cell_type": "code",
      "source": [
        "random_walks"
      ],
      "metadata": {
        "colab": {
          "base_uri": "https://localhost:8080/"
        },
        "id": "0cVLci37pv_8",
        "outputId": "9c567489-f21a-4275-ea2e-eb94b3011a70"
      },
      "execution_count": 6,
      "outputs": [
        {
          "output_type": "execute_result",
          "data": {
            "text/plain": [
              "array([[-1.06341115,  1.09799179,  1.48004319, ...,  2.12851388,\n",
              "         0.57699333,  1.8551869 ],\n",
              "       [ 1.17722528,  1.148769  ,  1.48590311, ...,  2.37341841,\n",
              "         1.00629187,  1.51580456],\n",
              "       [ 1.59472912,  0.05842108,  1.61883421, ...,  2.97901556,\n",
              "         1.19856446,  1.68113847],\n",
              "       ...,\n",
              "       [ 6.87403081,  1.33793898,  7.2306358 , ..., -9.11387621,\n",
              "         1.19316761, 11.82228955],\n",
              "       [ 8.16314717,  3.01917629,  6.75867225, ..., -8.22123624,\n",
              "        -0.36757371, 13.69803028],\n",
              "       [ 9.53284238,  4.45071893,  8.35569641, ..., -6.88691328,\n",
              "         0.34258116, 13.74595113]])"
            ]
          },
          "metadata": {},
          "execution_count": 6
        }
      ]
    },
    {
      "cell_type": "code",
      "source": [
        "#random_walks = np.concatenate(walks, axis=1)\n",
        "random_walks.shape"
      ],
      "metadata": {
        "id": "gG36BBx3il5a",
        "colab": {
          "base_uri": "https://localhost:8080/"
        },
        "outputId": "6c4cbe3f-5aa3-4369-be9d-54b5f9c4d3c1"
      },
      "execution_count": 7,
      "outputs": [
        {
          "output_type": "execute_result",
          "data": {
            "text/plain": [
              "(100, 100)"
            ]
          },
          "metadata": {},
          "execution_count": 7
        }
      ]
    },
    {
      "cell_type": "code",
      "source": [
        "intercepts = np.random.normal(0, 5, n_walks)\n",
        "random_walks += np.tile(intercepts, (n_steps, 1))\n",
        "\n"
      ],
      "metadata": {
        "id": "aJifqjf60VgU"
      },
      "execution_count": 8,
      "outputs": []
    },
    {
      "cell_type": "code",
      "source": [
        "random_walks.shape"
      ],
      "metadata": {
        "colab": {
          "base_uri": "https://localhost:8080/"
        },
        "id": "xJ2RqcMmpp-j",
        "outputId": "cd7fc516-48ae-41ef-e0f9-658e7b803290"
      },
      "execution_count": 9,
      "outputs": [
        {
          "output_type": "execute_result",
          "data": {
            "text/plain": [
              "(100, 100)"
            ]
          },
          "metadata": {},
          "execution_count": 9
        }
      ]
    },
    {
      "cell_type": "code",
      "source": [
        "y = np.reshape(random_walks, random_walks.shape[0]*random_walks.shape[1])"
      ],
      "metadata": {
        "id": "-M4JRH7zqAH9"
      },
      "execution_count": 10,
      "outputs": []
    },
    {
      "cell_type": "code",
      "source": [
        "# Create a data frame in wide format\n",
        "wide_df = pd.DataFrame(random_walks, columns=[f'x{i}' for i in range(1, n_walks+1)])"
      ],
      "metadata": {
        "id": "MMc6kWwApncr"
      },
      "execution_count": 11,
      "outputs": []
    },
    {
      "cell_type": "code",
      "source": [
        "wide_df['t'] = range(1, n_steps + 1)"
      ],
      "metadata": {
        "id": "Ebm555nFfDY0"
      },
      "execution_count": 12,
      "outputs": []
    },
    {
      "cell_type": "code",
      "source": [
        "\n",
        "# Convert the wide-format DataFrame to long format\n",
        "long_df = wide_df.melt(id_vars='t', var_name='level', value_name='value')\n"
      ],
      "metadata": {
        "id": "Kd1dMYzzHo5j"
      },
      "execution_count": 13,
      "outputs": []
    },
    {
      "cell_type": "code",
      "source": [
        "n_knots = 10\n",
        "\n",
        "# Generate equally spaced knots\n",
        "knots = np.linspace(min(long_df['t']), max(long_df['t']), num=n_knots)\n",
        "\n",
        "# Define the piecewise linear function\n",
        "def piecewise_linear(x, k):\n",
        "    y = x - k\n",
        "    y[x < 0] = 0\n",
        "    y[x < k] = 0\n",
        "    return y\n",
        "\n",
        "# Define a function to create a linear spline basis\n",
        "def create_basis(x, k):\n",
        "    num_x = len(x)\n",
        "    num_k = len(k)\n",
        "    b = np.zeros((num_x, num_k))\n",
        "    for i in range(num_k):\n",
        "        b_i = piecewise_linear(x, k[i])\n",
        "        b[:, i] = b_i\n",
        "    return pd.DataFrame(b, columns=[f'basis_X{i+1}' for i in range(num_k)])\n",
        "\n"
      ],
      "metadata": {
        "id": "D6AgihqTH7EO"
      },
      "execution_count": 14,
      "outputs": []
    },
    {
      "cell_type": "code",
      "source": [
        "# Example usage\n",
        "x = np.arange(1, n_steps + 1)  # Sample x values\n",
        "k_values = np.arange(0, n_knots) * (n_steps / n_knots)  # Values of k\n",
        "basis_matrix_wide = create_basis(x, k_values)\n",
        "\n",
        "# Normalize the basis matrix\n",
        "basis_matrix_wide.columns = [f'basis_X{i+1}' for i in range(n_knots)]\n"
      ],
      "metadata": {
        "id": "JvEfuoGpIFmC"
      },
      "execution_count": 15,
      "outputs": []
    },
    {
      "cell_type": "code",
      "source": [
        "t = np.arange(1, n_steps + 1)\n",
        "basis_matrix_wide.insert(0, 't', t)\n",
        "basis_matrix_wide = pd.DataFrame(basis_matrix_wide)\n",
        "\n",
        "# Merge the dataframes\n",
        "long_df = long_df.merge(basis_matrix_wide, on='t', how='left')"
      ],
      "metadata": {
        "id": "E9LgrcUFJxqj"
      },
      "execution_count": 16,
      "outputs": []
    },
    {
      "cell_type": "code",
      "source": [
        "#long_df = long_df[long_df['level'] == 'x1']"
      ],
      "metadata": {
        "id": "uMwSPGnPPaDE"
      },
      "execution_count": 17,
      "outputs": []
    },
    {
      "cell_type": "code",
      "source": [
        "# Identify rows to drop\n",
        "drop = long_df[long_df['level'] == 'x10'].index\n",
        "indices_to_remove = [905,907,961, 991]\n",
        "\n",
        "# Remove specified rows\n",
        "filtered_indices = [i for i in drop if i not in indices_to_remove]\n",
        "\n",
        "sample_df = long_df.drop(filtered_indices)\n",
        "\n"
      ],
      "metadata": {
        "id": "GxQhnGJ6KXmM"
      },
      "execution_count": 18,
      "outputs": []
    },
    {
      "cell_type": "code",
      "source": [
        "basis_vars = sample_df.columns.values[3:]"
      ],
      "metadata": {
        "id": "hmHeTIUDVAGs"
      },
      "execution_count": 19,
      "outputs": []
    },
    {
      "cell_type": "code",
      "source": [
        "target = sample_df['value']"
      ],
      "metadata": {
        "id": "DbAApKJefXbl"
      },
      "execution_count": 20,
      "outputs": []
    },
    {
      "cell_type": "code",
      "source": [
        "sample_df"
      ],
      "metadata": {
        "colab": {
          "base_uri": "https://localhost:8080/",
          "height": 424
        },
        "id": "vBpOHhAzDDPc",
        "outputId": "6d801d1a-34f4-4d93-82fa-540f18e5bce6"
      },
      "execution_count": 21,
      "outputs": [
        {
          "output_type": "execute_result",
          "data": {
            "text/plain": [
              "        t level      value  basis_X1  basis_X2  basis_X3  basis_X4  basis_X5  \\\n",
              "0       1    x1  -7.268260       1.0       0.0       0.0       0.0       0.0   \n",
              "1       2    x1  -5.027623       2.0       0.0       0.0       0.0       0.0   \n",
              "2       3    x1  -4.610119       3.0       0.0       0.0       0.0       0.0   \n",
              "3       4    x1  -4.285847       4.0       0.0       0.0       0.0       0.0   \n",
              "4       5    x1  -6.028087       5.0       0.0       0.0       0.0       0.0   \n",
              "...   ...   ...        ...       ...       ...       ...       ...       ...   \n",
              "9995   96  x100   9.719180      96.0      86.0      76.0      66.0      56.0   \n",
              "9996   97  x100   9.374131      97.0      87.0      77.0      67.0      57.0   \n",
              "9997   98  x100   9.192035      98.0      88.0      78.0      68.0      58.0   \n",
              "9998   99  x100  11.067776      99.0      89.0      79.0      69.0      59.0   \n",
              "9999  100  x100  11.115697     100.0      90.0      80.0      70.0      60.0   \n",
              "\n",
              "      basis_X6  basis_X7  basis_X8  basis_X9  basis_X10  \n",
              "0          0.0       0.0       0.0       0.0        0.0  \n",
              "1          0.0       0.0       0.0       0.0        0.0  \n",
              "2          0.0       0.0       0.0       0.0        0.0  \n",
              "3          0.0       0.0       0.0       0.0        0.0  \n",
              "4          0.0       0.0       0.0       0.0        0.0  \n",
              "...        ...       ...       ...       ...        ...  \n",
              "9995      46.0      36.0      26.0      16.0        6.0  \n",
              "9996      47.0      37.0      27.0      17.0        7.0  \n",
              "9997      48.0      38.0      28.0      18.0        8.0  \n",
              "9998      49.0      39.0      29.0      19.0        9.0  \n",
              "9999      50.0      40.0      30.0      20.0       10.0  \n",
              "\n",
              "[9904 rows x 13 columns]"
            ],
            "text/html": [
              "\n",
              "  <div id=\"df-671fe33f-c2f9-44b1-8ccf-6c155cd6a4de\" class=\"colab-df-container\">\n",
              "    <div>\n",
              "<style scoped>\n",
              "    .dataframe tbody tr th:only-of-type {\n",
              "        vertical-align: middle;\n",
              "    }\n",
              "\n",
              "    .dataframe tbody tr th {\n",
              "        vertical-align: top;\n",
              "    }\n",
              "\n",
              "    .dataframe thead th {\n",
              "        text-align: right;\n",
              "    }\n",
              "</style>\n",
              "<table border=\"1\" class=\"dataframe\">\n",
              "  <thead>\n",
              "    <tr style=\"text-align: right;\">\n",
              "      <th></th>\n",
              "      <th>t</th>\n",
              "      <th>level</th>\n",
              "      <th>value</th>\n",
              "      <th>basis_X1</th>\n",
              "      <th>basis_X2</th>\n",
              "      <th>basis_X3</th>\n",
              "      <th>basis_X4</th>\n",
              "      <th>basis_X5</th>\n",
              "      <th>basis_X6</th>\n",
              "      <th>basis_X7</th>\n",
              "      <th>basis_X8</th>\n",
              "      <th>basis_X9</th>\n",
              "      <th>basis_X10</th>\n",
              "    </tr>\n",
              "  </thead>\n",
              "  <tbody>\n",
              "    <tr>\n",
              "      <th>0</th>\n",
              "      <td>1</td>\n",
              "      <td>x1</td>\n",
              "      <td>-7.268260</td>\n",
              "      <td>1.0</td>\n",
              "      <td>0.0</td>\n",
              "      <td>0.0</td>\n",
              "      <td>0.0</td>\n",
              "      <td>0.0</td>\n",
              "      <td>0.0</td>\n",
              "      <td>0.0</td>\n",
              "      <td>0.0</td>\n",
              "      <td>0.0</td>\n",
              "      <td>0.0</td>\n",
              "    </tr>\n",
              "    <tr>\n",
              "      <th>1</th>\n",
              "      <td>2</td>\n",
              "      <td>x1</td>\n",
              "      <td>-5.027623</td>\n",
              "      <td>2.0</td>\n",
              "      <td>0.0</td>\n",
              "      <td>0.0</td>\n",
              "      <td>0.0</td>\n",
              "      <td>0.0</td>\n",
              "      <td>0.0</td>\n",
              "      <td>0.0</td>\n",
              "      <td>0.0</td>\n",
              "      <td>0.0</td>\n",
              "      <td>0.0</td>\n",
              "    </tr>\n",
              "    <tr>\n",
              "      <th>2</th>\n",
              "      <td>3</td>\n",
              "      <td>x1</td>\n",
              "      <td>-4.610119</td>\n",
              "      <td>3.0</td>\n",
              "      <td>0.0</td>\n",
              "      <td>0.0</td>\n",
              "      <td>0.0</td>\n",
              "      <td>0.0</td>\n",
              "      <td>0.0</td>\n",
              "      <td>0.0</td>\n",
              "      <td>0.0</td>\n",
              "      <td>0.0</td>\n",
              "      <td>0.0</td>\n",
              "    </tr>\n",
              "    <tr>\n",
              "      <th>3</th>\n",
              "      <td>4</td>\n",
              "      <td>x1</td>\n",
              "      <td>-4.285847</td>\n",
              "      <td>4.0</td>\n",
              "      <td>0.0</td>\n",
              "      <td>0.0</td>\n",
              "      <td>0.0</td>\n",
              "      <td>0.0</td>\n",
              "      <td>0.0</td>\n",
              "      <td>0.0</td>\n",
              "      <td>0.0</td>\n",
              "      <td>0.0</td>\n",
              "      <td>0.0</td>\n",
              "    </tr>\n",
              "    <tr>\n",
              "      <th>4</th>\n",
              "      <td>5</td>\n",
              "      <td>x1</td>\n",
              "      <td>-6.028087</td>\n",
              "      <td>5.0</td>\n",
              "      <td>0.0</td>\n",
              "      <td>0.0</td>\n",
              "      <td>0.0</td>\n",
              "      <td>0.0</td>\n",
              "      <td>0.0</td>\n",
              "      <td>0.0</td>\n",
              "      <td>0.0</td>\n",
              "      <td>0.0</td>\n",
              "      <td>0.0</td>\n",
              "    </tr>\n",
              "    <tr>\n",
              "      <th>...</th>\n",
              "      <td>...</td>\n",
              "      <td>...</td>\n",
              "      <td>...</td>\n",
              "      <td>...</td>\n",
              "      <td>...</td>\n",
              "      <td>...</td>\n",
              "      <td>...</td>\n",
              "      <td>...</td>\n",
              "      <td>...</td>\n",
              "      <td>...</td>\n",
              "      <td>...</td>\n",
              "      <td>...</td>\n",
              "      <td>...</td>\n",
              "    </tr>\n",
              "    <tr>\n",
              "      <th>9995</th>\n",
              "      <td>96</td>\n",
              "      <td>x100</td>\n",
              "      <td>9.719180</td>\n",
              "      <td>96.0</td>\n",
              "      <td>86.0</td>\n",
              "      <td>76.0</td>\n",
              "      <td>66.0</td>\n",
              "      <td>56.0</td>\n",
              "      <td>46.0</td>\n",
              "      <td>36.0</td>\n",
              "      <td>26.0</td>\n",
              "      <td>16.0</td>\n",
              "      <td>6.0</td>\n",
              "    </tr>\n",
              "    <tr>\n",
              "      <th>9996</th>\n",
              "      <td>97</td>\n",
              "      <td>x100</td>\n",
              "      <td>9.374131</td>\n",
              "      <td>97.0</td>\n",
              "      <td>87.0</td>\n",
              "      <td>77.0</td>\n",
              "      <td>67.0</td>\n",
              "      <td>57.0</td>\n",
              "      <td>47.0</td>\n",
              "      <td>37.0</td>\n",
              "      <td>27.0</td>\n",
              "      <td>17.0</td>\n",
              "      <td>7.0</td>\n",
              "    </tr>\n",
              "    <tr>\n",
              "      <th>9997</th>\n",
              "      <td>98</td>\n",
              "      <td>x100</td>\n",
              "      <td>9.192035</td>\n",
              "      <td>98.0</td>\n",
              "      <td>88.0</td>\n",
              "      <td>78.0</td>\n",
              "      <td>68.0</td>\n",
              "      <td>58.0</td>\n",
              "      <td>48.0</td>\n",
              "      <td>38.0</td>\n",
              "      <td>28.0</td>\n",
              "      <td>18.0</td>\n",
              "      <td>8.0</td>\n",
              "    </tr>\n",
              "    <tr>\n",
              "      <th>9998</th>\n",
              "      <td>99</td>\n",
              "      <td>x100</td>\n",
              "      <td>11.067776</td>\n",
              "      <td>99.0</td>\n",
              "      <td>89.0</td>\n",
              "      <td>79.0</td>\n",
              "      <td>69.0</td>\n",
              "      <td>59.0</td>\n",
              "      <td>49.0</td>\n",
              "      <td>39.0</td>\n",
              "      <td>29.0</td>\n",
              "      <td>19.0</td>\n",
              "      <td>9.0</td>\n",
              "    </tr>\n",
              "    <tr>\n",
              "      <th>9999</th>\n",
              "      <td>100</td>\n",
              "      <td>x100</td>\n",
              "      <td>11.115697</td>\n",
              "      <td>100.0</td>\n",
              "      <td>90.0</td>\n",
              "      <td>80.0</td>\n",
              "      <td>70.0</td>\n",
              "      <td>60.0</td>\n",
              "      <td>50.0</td>\n",
              "      <td>40.0</td>\n",
              "      <td>30.0</td>\n",
              "      <td>20.0</td>\n",
              "      <td>10.0</td>\n",
              "    </tr>\n",
              "  </tbody>\n",
              "</table>\n",
              "<p>9904 rows × 13 columns</p>\n",
              "</div>\n",
              "    <div class=\"colab-df-buttons\">\n",
              "\n",
              "  <div class=\"colab-df-container\">\n",
              "    <button class=\"colab-df-convert\" onclick=\"convertToInteractive('df-671fe33f-c2f9-44b1-8ccf-6c155cd6a4de')\"\n",
              "            title=\"Convert this dataframe to an interactive table.\"\n",
              "            style=\"display:none;\">\n",
              "\n",
              "  <svg xmlns=\"http://www.w3.org/2000/svg\" height=\"24px\" viewBox=\"0 -960 960 960\">\n",
              "    <path d=\"M120-120v-720h720v720H120Zm60-500h600v-160H180v160Zm220 220h160v-160H400v160Zm0 220h160v-160H400v160ZM180-400h160v-160H180v160Zm440 0h160v-160H620v160ZM180-180h160v-160H180v160Zm440 0h160v-160H620v160Z\"/>\n",
              "  </svg>\n",
              "    </button>\n",
              "\n",
              "  <style>\n",
              "    .colab-df-container {\n",
              "      display:flex;\n",
              "      gap: 12px;\n",
              "    }\n",
              "\n",
              "    .colab-df-convert {\n",
              "      background-color: #E8F0FE;\n",
              "      border: none;\n",
              "      border-radius: 50%;\n",
              "      cursor: pointer;\n",
              "      display: none;\n",
              "      fill: #1967D2;\n",
              "      height: 32px;\n",
              "      padding: 0 0 0 0;\n",
              "      width: 32px;\n",
              "    }\n",
              "\n",
              "    .colab-df-convert:hover {\n",
              "      background-color: #E2EBFA;\n",
              "      box-shadow: 0px 1px 2px rgba(60, 64, 67, 0.3), 0px 1px 3px 1px rgba(60, 64, 67, 0.15);\n",
              "      fill: #174EA6;\n",
              "    }\n",
              "\n",
              "    .colab-df-buttons div {\n",
              "      margin-bottom: 4px;\n",
              "    }\n",
              "\n",
              "    [theme=dark] .colab-df-convert {\n",
              "      background-color: #3B4455;\n",
              "      fill: #D2E3FC;\n",
              "    }\n",
              "\n",
              "    [theme=dark] .colab-df-convert:hover {\n",
              "      background-color: #434B5C;\n",
              "      box-shadow: 0px 1px 3px 1px rgba(0, 0, 0, 0.15);\n",
              "      filter: drop-shadow(0px 1px 2px rgba(0, 0, 0, 0.3));\n",
              "      fill: #FFFFFF;\n",
              "    }\n",
              "  </style>\n",
              "\n",
              "    <script>\n",
              "      const buttonEl =\n",
              "        document.querySelector('#df-671fe33f-c2f9-44b1-8ccf-6c155cd6a4de button.colab-df-convert');\n",
              "      buttonEl.style.display =\n",
              "        google.colab.kernel.accessAllowed ? 'block' : 'none';\n",
              "\n",
              "      async function convertToInteractive(key) {\n",
              "        const element = document.querySelector('#df-671fe33f-c2f9-44b1-8ccf-6c155cd6a4de');\n",
              "        const dataTable =\n",
              "          await google.colab.kernel.invokeFunction('convertToInteractive',\n",
              "                                                    [key], {});\n",
              "        if (!dataTable) return;\n",
              "\n",
              "        const docLinkHtml = 'Like what you see? Visit the ' +\n",
              "          '<a target=\"_blank\" href=https://colab.research.google.com/notebooks/data_table.ipynb>data table notebook</a>'\n",
              "          + ' to learn more about interactive tables.';\n",
              "        element.innerHTML = '';\n",
              "        dataTable['output_type'] = 'display_data';\n",
              "        await google.colab.output.renderOutput(dataTable, element);\n",
              "        const docLink = document.createElement('div');\n",
              "        docLink.innerHTML = docLinkHtml;\n",
              "        element.appendChild(docLink);\n",
              "      }\n",
              "    </script>\n",
              "  </div>\n",
              "\n",
              "\n",
              "<div id=\"df-74e987d9-41dc-46ee-8d26-250935edeb11\">\n",
              "  <button class=\"colab-df-quickchart\" onclick=\"quickchart('df-74e987d9-41dc-46ee-8d26-250935edeb11')\"\n",
              "            title=\"Suggest charts\"\n",
              "            style=\"display:none;\">\n",
              "\n",
              "<svg xmlns=\"http://www.w3.org/2000/svg\" height=\"24px\"viewBox=\"0 0 24 24\"\n",
              "     width=\"24px\">\n",
              "    <g>\n",
              "        <path d=\"M19 3H5c-1.1 0-2 .9-2 2v14c0 1.1.9 2 2 2h14c1.1 0 2-.9 2-2V5c0-1.1-.9-2-2-2zM9 17H7v-7h2v7zm4 0h-2V7h2v10zm4 0h-2v-4h2v4z\"/>\n",
              "    </g>\n",
              "</svg>\n",
              "  </button>\n",
              "\n",
              "<style>\n",
              "  .colab-df-quickchart {\n",
              "      --bg-color: #E8F0FE;\n",
              "      --fill-color: #1967D2;\n",
              "      --hover-bg-color: #E2EBFA;\n",
              "      --hover-fill-color: #174EA6;\n",
              "      --disabled-fill-color: #AAA;\n",
              "      --disabled-bg-color: #DDD;\n",
              "  }\n",
              "\n",
              "  [theme=dark] .colab-df-quickchart {\n",
              "      --bg-color: #3B4455;\n",
              "      --fill-color: #D2E3FC;\n",
              "      --hover-bg-color: #434B5C;\n",
              "      --hover-fill-color: #FFFFFF;\n",
              "      --disabled-bg-color: #3B4455;\n",
              "      --disabled-fill-color: #666;\n",
              "  }\n",
              "\n",
              "  .colab-df-quickchart {\n",
              "    background-color: var(--bg-color);\n",
              "    border: none;\n",
              "    border-radius: 50%;\n",
              "    cursor: pointer;\n",
              "    display: none;\n",
              "    fill: var(--fill-color);\n",
              "    height: 32px;\n",
              "    padding: 0;\n",
              "    width: 32px;\n",
              "  }\n",
              "\n",
              "  .colab-df-quickchart:hover {\n",
              "    background-color: var(--hover-bg-color);\n",
              "    box-shadow: 0 1px 2px rgba(60, 64, 67, 0.3), 0 1px 3px 1px rgba(60, 64, 67, 0.15);\n",
              "    fill: var(--button-hover-fill-color);\n",
              "  }\n",
              "\n",
              "  .colab-df-quickchart-complete:disabled,\n",
              "  .colab-df-quickchart-complete:disabled:hover {\n",
              "    background-color: var(--disabled-bg-color);\n",
              "    fill: var(--disabled-fill-color);\n",
              "    box-shadow: none;\n",
              "  }\n",
              "\n",
              "  .colab-df-spinner {\n",
              "    border: 2px solid var(--fill-color);\n",
              "    border-color: transparent;\n",
              "    border-bottom-color: var(--fill-color);\n",
              "    animation:\n",
              "      spin 1s steps(1) infinite;\n",
              "  }\n",
              "\n",
              "  @keyframes spin {\n",
              "    0% {\n",
              "      border-color: transparent;\n",
              "      border-bottom-color: var(--fill-color);\n",
              "      border-left-color: var(--fill-color);\n",
              "    }\n",
              "    20% {\n",
              "      border-color: transparent;\n",
              "      border-left-color: var(--fill-color);\n",
              "      border-top-color: var(--fill-color);\n",
              "    }\n",
              "    30% {\n",
              "      border-color: transparent;\n",
              "      border-left-color: var(--fill-color);\n",
              "      border-top-color: var(--fill-color);\n",
              "      border-right-color: var(--fill-color);\n",
              "    }\n",
              "    40% {\n",
              "      border-color: transparent;\n",
              "      border-right-color: var(--fill-color);\n",
              "      border-top-color: var(--fill-color);\n",
              "    }\n",
              "    60% {\n",
              "      border-color: transparent;\n",
              "      border-right-color: var(--fill-color);\n",
              "    }\n",
              "    80% {\n",
              "      border-color: transparent;\n",
              "      border-right-color: var(--fill-color);\n",
              "      border-bottom-color: var(--fill-color);\n",
              "    }\n",
              "    90% {\n",
              "      border-color: transparent;\n",
              "      border-bottom-color: var(--fill-color);\n",
              "    }\n",
              "  }\n",
              "</style>\n",
              "\n",
              "  <script>\n",
              "    async function quickchart(key) {\n",
              "      const quickchartButtonEl =\n",
              "        document.querySelector('#' + key + ' button');\n",
              "      quickchartButtonEl.disabled = true;  // To prevent multiple clicks.\n",
              "      quickchartButtonEl.classList.add('colab-df-spinner');\n",
              "      try {\n",
              "        const charts = await google.colab.kernel.invokeFunction(\n",
              "            'suggestCharts', [key], {});\n",
              "      } catch (error) {\n",
              "        console.error('Error during call to suggestCharts:', error);\n",
              "      }\n",
              "      quickchartButtonEl.classList.remove('colab-df-spinner');\n",
              "      quickchartButtonEl.classList.add('colab-df-quickchart-complete');\n",
              "    }\n",
              "    (() => {\n",
              "      let quickchartButtonEl =\n",
              "        document.querySelector('#df-74e987d9-41dc-46ee-8d26-250935edeb11 button');\n",
              "      quickchartButtonEl.style.display =\n",
              "        google.colab.kernel.accessAllowed ? 'block' : 'none';\n",
              "    })();\n",
              "  </script>\n",
              "</div>\n",
              "    </div>\n",
              "  </div>\n"
            ]
          },
          "metadata": {},
          "execution_count": 21
        }
      ]
    },
    {
      "cell_type": "markdown",
      "source": [
        "###Pytorch Formulation"
      ],
      "metadata": {
        "id": "nBrzYc9LYC2y"
      }
    },
    {
      "cell_type": "markdown",
      "source": [
        "Try and use an embedding layer instead of dummy variables"
      ],
      "metadata": {
        "id": "m1zdQQPuhIRd"
      }
    },
    {
      "cell_type": "code",
      "source": [
        "class EmbeddingTrendNetwork(nn.Module):\n",
        "    def __init__(self, n_level, n_basis, embedding_size):\n",
        "        super().__init__()\n",
        "\n",
        "        self.n_basis = n_basis\n",
        "        self.n_level = n_level\n",
        "\n",
        "        # Fixed effect parameters\n",
        "        self.F = nn.Parameter(torch.rand(n_basis))\n",
        "\n",
        "        # Intercept random effect\n",
        "        self.R_int = nn.Parameter(torch.rand(embedding_size, 1))\n",
        "\n",
        "        # Basis slope random effects\n",
        "        self.R_effect = nn.Parameter(torch.rand(embedding_size, n_basis))\n",
        "\n",
        "        # Embedding layers\n",
        "        self.L_embedding = nn.Embedding(n_level+1, embedding_size)\n",
        "        self.intercept_embedding = nn.Embedding(n_level+1, embedding_size)\n",
        "\n",
        "        # Additional parameter layers\n",
        "        self.sd1 = nn.Parameter(torch.tensor(1.0)) # Error sd\n",
        "\n",
        "\n",
        "    def forward(self, X, L_int):\n",
        "\n",
        "        # Fixed effects\n",
        "        xf = torch.matmul(X, self.F)\n",
        "\n",
        "\n",
        "        # Apply the embedding\n",
        "        E = self.L_embedding(L_int)\n",
        "        L_intercept = self.intercept_embedding(L_int)\n",
        "\n",
        "        intercept = torch.matmul(L_intercept, self.R_int)\n",
        "\n",
        "        # Random effect slopes\n",
        "        lr_slope = torch.matmul(E, self.R_effect)\n",
        "        X = X[:,:,None]\n",
        "        lr_slope = lr_slope[:, None, :]\n",
        "        lrx = torch.matmul(lr_slope, X)\n",
        "\n",
        "        # Sum them all together\n",
        "        y_p = lrx.squeeze(1).squeeze(1) + intercept.squeeze(1) + xf\n",
        "\n",
        "        decomp = {\"Intercept\":intercept,  \"Random\":lrx.squeeze(1).squeeze(1), \"Fixed\":xf}\n",
        "\n",
        "        return y_p, E, lr_slope, decomp\n",
        "\n",
        "    def loss(self, y_p, y):\n",
        "\n",
        "        # Get the log likelihood for the error\n",
        "        l1_dist = dist.Normal(0, torch.exp(self.sd1))\n",
        "        l1 = l1_dist.log_prob(y - y_p).mean()\n",
        "\n",
        "        # Sum them together and then scale them via the mean\n",
        "        l = l1\n",
        "\n",
        "        return -l"
      ],
      "metadata": {
        "id": "opyxaS7ahOnD"
      },
      "execution_count": 22,
      "outputs": []
    },
    {
      "cell_type": "code",
      "source": [
        "# Create an instance of the network\n",
        "model = EmbeddingTrendNetwork(n_level=99, n_basis=10, embedding_size=8)\n",
        "\n"
      ],
      "metadata": {
        "id": "eO-yhLvEjffr"
      },
      "execution_count": 25,
      "outputs": []
    },
    {
      "cell_type": "code",
      "source": [
        "y = torch.tensor(np.array(sample_df['value']))\n",
        "y = y/torch.max(y)\n",
        "y = y"
      ],
      "metadata": {
        "id": "0UTp62bhVt4r"
      },
      "execution_count": 26,
      "outputs": []
    },
    {
      "cell_type": "code",
      "source": [
        "# Example data\n",
        "# Create a matrix containing all basis functions as columns\n",
        "pred_df = sample_df[basis_vars]\n",
        "X = torch.tensor(np.array(pred_df.iloc[:,0:pred_df.shape[0]]).astype('float32'))\n",
        "X = X/100"
      ],
      "metadata": {
        "id": "cQf5F25xUxds"
      },
      "execution_count": 27,
      "outputs": []
    },
    {
      "cell_type": "code",
      "source": [
        "level = pd.get_dummies(sample_df['level'])\n",
        "cols = [f\"x{int(i)}\" for i in range(1,n_walks)]\n",
        "level = level[cols]\n",
        "\n",
        "L = torch.tensor(np.array(level).astype('float32'))"
      ],
      "metadata": {
        "id": "chSeK7GVtNfV"
      },
      "execution_count": 28,
      "outputs": []
    },
    {
      "cell_type": "code",
      "source": [
        "L_int = torch.tensor((pd.Categorical(sample_df['level'])).codes, dtype=torch.int)\n",
        "L_int = L_int"
      ],
      "metadata": {
        "id": "3CsEEzRPpZ6K"
      },
      "execution_count": 29,
      "outputs": []
    },
    {
      "cell_type": "code",
      "source": [
        "# Define the optimizer (SGD)\n",
        "optimizer = optim.RMSprop(model.parameters(), lr=1e-1)\n",
        "scheduler = torch.optim.lr_scheduler.ExponentialLR(optimizer, gamma=0.999)\n",
        "\n",
        "num_epochs = 10000\n",
        "num_obs = X.shape[0]\n",
        "\n",
        "history = []\n",
        "for epoch in range(num_epochs):\n",
        "    optimizer.zero_grad()\n",
        "\n",
        "    if epoch == (num_epochs - 1):\n",
        "      s = torch.tensor(np.arange(X.shape[0]))\n",
        "    else:\n",
        "      # Shuffle the observation order before each training round, unless its the last round\n",
        "      s= torch.randperm(num_obs)\n",
        "\n",
        "    y_p, E, lr_slope, decomp = model(X[s,:], L_int[s])\n",
        "    loss = model.loss(y_p, y[s])\n",
        "    history.append(loss.detach().numpy())\n",
        "    loss.backward()\n",
        "    optimizer.step()\n",
        "    scheduler.step()\n",
        "    if epoch % 100 == 0:\n",
        "      print(f\"LR:{optimizer.param_groups[0]['lr']}\")\n",
        "      print(f'Epoch [{epoch + 1}/{num_epochs}], Loss: {loss}')\n"
      ],
      "metadata": {
        "colab": {
          "base_uri": "https://localhost:8080/"
        },
        "id": "Tk33ExYhAw-i",
        "outputId": "b69ecfa8-48a6-49ec-8b5c-8df6e9d76d17"
      },
      "execution_count": 30,
      "outputs": [
        {
          "output_type": "stream",
          "name": "stdout",
          "text": [
            "LR:0.0999\n",
            "Epoch [1/10000], Loss: 3.2414613272857182\n",
            "LR:0.09038873549665954\n",
            "Epoch [101/10000], Loss: 0.931962250006343\n",
            "LR:0.08178301806491572\n",
            "Epoch [201/10000], Loss: 0.8491150722353181\n",
            "LR:0.07399663251239438\n",
            "Epoch [301/10000], Loss: 0.009733650998127178\n",
            "LR:0.0669515720100734\n",
            "Epoch [401/10000], Loss: -0.13154415386025184\n",
            "LR:0.060577256591632454\n",
            "Epoch [501/10000], Loss: -0.4079486348646092\n",
            "LR:0.05480982605780123\n",
            "Epoch [601/10000], Loss: -0.646366072893399\n",
            "LR:0.049591500201766864\n",
            "Epoch [701/10000], Loss: -0.43514992165444083\n",
            "LR:0.04486999994614655\n",
            "Epoch [801/10000], Loss: -0.5364266524717652\n",
            "LR:0.04059802359226594\n",
            "Epoch [901/10000], Loss: 4.289758311100552\n",
            "LR:0.03673277293461932\n",
            "Epoch [1001/10000], Loss: -1.113814795243932\n",
            "LR:0.03323552449295458\n",
            "Epoch [1101/10000], Loss: -0.1934417554302686\n",
            "LR:0.030071241566430654\n",
            "Epoch [1201/10000], Loss: -1.1506058130782835\n",
            "LR:0.027208223223265812\n",
            "Epoch [1301/10000], Loss: -1.2562576943866168\n",
            "LR:0.02461778670932776\n",
            "Epoch [1401/10000], Loss: -1.3198232057324228\n",
            "LR:0.022273980093920013\n",
            "Epoch [1501/10000], Loss: -1.3842325053595932\n",
            "LR:0.020153322273945905\n",
            "Epoch [1601/10000], Loss: -1.2881724551148572\n",
            "LR:0.018234567731718058\n",
            "Epoch [1701/10000], Loss: -1.2738476394810212\n",
            "LR:0.01649849368967153\n",
            "Epoch [1801/10000], Loss: -1.574236225230906\n",
            "LR:0.014927707529619883\n",
            "Epoch [1901/10000], Loss: -1.6682195465549616\n",
            "LR:0.01350647254721025\n",
            "Epoch [2001/10000], Loss: -1.6627163228175716\n",
            "LR:0.012220550295922724\n",
            "Epoch [2101/10000], Loss: -1.591190142977558\n",
            "LR:0.011057057941159005\n",
            "Epoch [2201/10000], Loss: -1.7713949676019187\n",
            "LR:0.010004339195341945\n",
            "Epoch [2301/10000], Loss: -1.6950771674136484\n",
            "LR:0.009051847541007272\n",
            "Epoch [2401/10000], Loss: -1.6790270088002541\n",
            "LR:0.008190040571973917\n",
            "Epoch [2501/10000], Loss: -1.8464089811059754\n",
            "LR:0.00741028439406466\n",
            "Epoch [2601/10000], Loss: -1.6513792222011818\n",
            "LR:0.006704767127628973\n",
            "Epoch [2701/10000], Loss: -1.7996167949355706\n",
            "LR:0.006066420645304835\n",
            "Epoch [2801/10000], Loss: -1.707204544678111\n",
            "LR:0.005488849760960292\n",
            "Epoch [2901/10000], Loss: -1.8454573769256795\n",
            "LR:0.004966268160403829\n",
            "Epoch [3001/10000], Loss: -1.9171096792413154\n",
            "LR:0.004493440431994229\n",
            "Epoch [3101/10000], Loss: -1.8757846380606449\n",
            "LR:0.004065629616391608\n",
            "Epoch [3201/10000], Loss: -1.8859174380653858\n",
            "LR:0.003678549749984047\n",
            "Epoch [3301/10000], Loss: -1.8986261069972796\n",
            "LR:0.0033283229265526635\n",
            "Epoch [3401/10000], Loss: -1.9017281540965771\n",
            "LR:0.0030114404470033664\n",
            "Epoch [3501/10000], Loss: -1.9143138236906265\n",
            "LR:0.0027247276679492434\n",
            "Epoch [3601/10000], Loss: -1.940111093932511\n",
            "LR:0.0024653121969839243\n",
            "Epoch [3701/10000], Loss: -1.9210825160855345\n",
            "LR:0.0022305951160146993\n",
            "Epoch [3801/10000], Loss: -1.9474741071554995\n",
            "LR:0.002018224944360292\n",
            "Epoch [3901/10000], Loss: -1.949978197773029\n",
            "LR:0.0018260740807661954\n",
            "Epoch [4001/10000], Loss: -1.9567470275512813\n",
            "LR:0.001652217488325138\n",
            "Epoch [4101/10000], Loss: -1.9558980232032266\n",
            "LR:0.0014949134087605207\n",
            "Epoch [4201/10000], Loss: -1.9564944231616996\n",
            "LR:0.001352585912861505\n",
            "Epoch [4301/10000], Loss: -1.956623130227065\n",
            "LR:0.001223809112253717\n",
            "Epoch [4401/10000], Loss: -1.9619759367896819\n",
            "LR:0.0011072928743333633\n",
            "Epoch [4501/10000], Loss: -1.9670685238180952\n",
            "LR:0.0010018698972517938\n",
            "Epoch [4601/10000], Loss: -1.9696676690043295\n",
            "LR:0.0009064840154630418\n",
            "Epoch [4701/10000], Loss: -1.9678036880590906\n",
            "LR:0.0008201796186750622\n",
            "Epoch [4801/10000], Loss: -1.9693900504250708\n",
            "LR:0.0007420920781999123\n",
            "Epoch [4901/10000], Loss: -1.9701896072767218\n",
            "LR:0.0006714390847905733\n",
            "Epoch [5001/10000], Loss: -1.9702821989710038\n",
            "LR:0.0006075128111837267\n",
            "Epoch [5101/10000], Loss: -1.9720658026872386\n",
            "LR:0.0005496728208300093\n",
            "Epoch [5201/10000], Loss: -1.9724231611802556\n",
            "LR:0.0004973396517688328\n",
            "Epoch [5301/10000], Loss: -1.972547155517776\n",
            "LR:0.00044998901136870625\n",
            "Epoch [5401/10000], Loss: -1.9732639006477386\n",
            "LR:0.000407146523773867\n",
            "Epoch [5501/10000], Loss: -1.9733613876993392\n",
            "LR:0.0003683829774352397\n",
            "Epoch [5601/10000], Loss: -1.9737376009947476\n",
            "LR:0.00033331002511377154\n",
            "Epoch [5701/10000], Loss: -1.9740581422022825\n",
            "LR:0.0003015762932772134\n",
            "Epoch [5801/10000], Loss: -1.974223055414096\n",
            "LR:0.0002728638619128836\n",
            "Epoch [5901/10000], Loss: -1.9743166273980999\n",
            "LR:0.0002468850794898964\n",
            "Epoch [6001/10000], Loss: -1.974622746978465\n",
            "LR:0.00022337968116200208\n",
            "Epoch [6101/10000], Loss: -1.9747207511759006\n",
            "LR:0.00020211218134014345\n",
            "Epoch [6201/10000], Loss: -1.9748074415549548\n",
            "LR:0.00018286951451258366\n",
            "Epoch [6301/10000], Loss: -1.9749355887715583\n",
            "LR:0.00016545890067748203\n",
            "Epoch [6401/10000], Loss: -1.975071947963647\n",
            "LR:0.00014970591400305293\n",
            "Epoch [6501/10000], Loss: -1.975148986433347\n",
            "LR:0.00013545273536644253\n",
            "Epoch [6601/10000], Loss: -1.9752111737276292\n",
            "LR:0.0001225565712646285\n",
            "Epoch [6701/10000], Loss: -1.9753079489823517\n",
            "LR:0.00011088822325741746\n",
            "Epoch [6801/10000], Loss: -1.975376509836162\n",
            "LR:0.00010033079361070307\n",
            "Epoch [6901/10000], Loss: -1.975434346964442\n",
            "LR:9.077851417265044e-05\n",
            "Epoch [7001/10000], Loss: -1.975493418624548\n",
            "LR:8.213568675006468e-05\n",
            "Epoch [7101/10000], Loss: -1.9755571874721043\n",
            "LR:7.431572436924998e-05\n",
            "Epoch [7201/10000], Loss: -1.9756069470819535\n",
            "LR:6.724028381636424e-05\n",
            "Epoch [7301/10000], Loss: -1.9756536019648234\n",
            "LR:6.083848076674338e-05\n",
            "Epoch [7401/10000], Loss: -1.97570676628201\n",
            "LR:5.504617964007781e-05\n",
            "Epoch [7501/10000], Loss: -1.9757520074634056\n",
            "LR:4.980535106695294e-05\n",
            "Epoch [7601/10000], Loss: -1.9757935640541318\n",
            "LR:4.506349052962038e-05\n",
            "Epoch [7701/10000], Loss: -1.9758395470103551\n",
            "LR:4.07730923527335e-05\n",
            "Epoch [7801/10000], Loss: -1.9758808809002337\n",
            "LR:3.6891173774295256e-05\n",
            "Epoch [7901/10000], Loss: -1.9759196650792428\n",
            "LR:3.337884432878956e-05\n",
            "Epoch [8001/10000], Loss: -1.9759603124695628\n",
            "LR:3.020091622841971e-05\n",
            "Epoch [8101/10000], Loss: -1.9759981807506826\n",
            "LR:2.732555183911314e-05\n",
            "Epoch [8201/10000], Loss: -1.9760346328031326\n",
            "LR:2.4723944719578134e-05\n",
            "Epoch [8301/10000], Loss: -1.9760712822047533\n",
            "LR:2.237003102794775e-05\n",
            "Epoch [8401/10000], Loss: -1.9761060387998373\n",
            "LR:2.024022840477715e-05\n",
            "Epoch [8501/10000], Loss: -1.9761400012753603\n",
            "LR:1.831319971643019e-05\n",
            "Epoch [8601/10000], Loss: -1.9761732958785352\n",
            "LR:1.6569639291951052e-05\n",
            "Epoch [8701/10000], Loss: -1.9762054484429035\n",
            "LR:1.4992079511864073e-05\n",
            "Epoch [8801/10000], Loss: -1.9762367663750928\n",
            "LR:1.3564715811238938e-05\n",
            "Epoch [8901/10000], Loss: -1.976267305823856\n",
            "LR:1.2273248343838154e-05\n",
            "Epoch [9001/10000], Loss: -1.976296690631564\n",
            "LR:1.1104738721081097e-05\n",
            "Epoch [9101/10000], Loss: -1.976325298427639\n",
            "LR:1.0047480390583704e-05\n",
            "Epoch [9201/10000], Loss: -1.9763530030275922\n",
            "LR:9.090881355679117e-06\n",
            "Epoch [9301/10000], Loss: -1.97637985167336\n",
            "LR:8.225358060960894e-06\n",
            "Epoch [9401/10000], Loss: -1.97640591222911\n",
            "LR:7.44223938075586e-06\n",
            "Epoch [9501/10000], Loss: -1.9764307940138146\n",
            "LR:6.733679748648295e-06\n",
            "Epoch [9601/10000], Loss: -1.976454912106258\n",
            "LR:6.092580557755591e-06\n",
            "Epoch [9701/10000], Loss: -1.9764780559390536\n",
            "LR:5.51251904431492e-06\n",
            "Epoch [9801/10000], Loss: -1.9765002615748608\n",
            "LR:4.987683942110906e-06\n",
            "Epoch [9901/10000], Loss: -1.9765214694708988\n"
          ]
        }
      ]
    },
    {
      "cell_type": "code",
      "source": [
        "plt.plot(range(0,999), y_p.detach().numpy()[0:999], color=\"red\")\n",
        "plt.plot(decomp['Random'].detach().numpy()[0:999], color=\"yellow\")\n",
        "plt.plot(decomp['Fixed'].detach().numpy()[0:999], color=\"green\")\n",
        "plt.scatter(range(0,999),y[0:999])\n",
        "plt.show()"
      ],
      "metadata": {
        "id": "Gnusa3fPEMJm",
        "colab": {
          "base_uri": "https://localhost:8080/",
          "height": 430
        },
        "outputId": "c7bf7607-6e3f-4abf-ddbd-50a8eb730298"
      },
      "execution_count": 31,
      "outputs": [
        {
          "output_type": "display_data",
          "data": {
            "text/plain": [
              "<Figure size 640x480 with 1 Axes>"
            ],
            "image/png": "[encoded data removed]"
          },
          "metadata": {}
        }
      ]
    },
    {
      "cell_type": "code",
      "source": [
        "y_test = torch.tensor(np.array(long_df['value']))\n",
        "y_test = y_test/torch.max(y_test) # Technically, the scaling should be based on y. Small data leak but im lazy.\n",
        "y_test = y_test\n",
        "\n",
        "level = pd.get_dummies(long_df['level'])\n",
        "\n",
        "cols = [f\"x{int(i)}\" for i in range(1,100)]\n",
        "level = level[cols]\n",
        "L = torch.tensor(np.array(level).astype('float32'))\n",
        "L = L\n",
        "\n",
        "# Example data\n",
        "# Create a matrix containing all basis functions as columns\n",
        "pred_df = long_df[basis_vars]\n",
        "X = torch.tensor(np.array(pred_df.iloc[:,:pred_df.shape[0]]).astype('float32'))\n",
        "X = X/100\n",
        "X = X\n",
        "\n",
        "L_int = torch.tensor((pd.Categorical(long_df['level'])).codes, dtype=torch.int)\n",
        "L_int = L_int"
      ],
      "metadata": {
        "id": "s7yhuGnKKeTg"
      },
      "execution_count": 32,
      "outputs": []
    },
    {
      "cell_type": "code",
      "source": [
        "y_reconstruct = model(X,L_int)"
      ],
      "metadata": {
        "id": "16R1NDXUxMi-"
      },
      "execution_count": 33,
      "outputs": []
    },
    {
      "cell_type": "code",
      "source": [
        "plt.scatter(sample_df[sample_df['level'] == 'x10']['t'], sample_df[sample_df['level'] == 'x10']['value'])"
      ],
      "metadata": {
        "colab": {
          "base_uri": "https://localhost:8080/",
          "height": 448
        },
        "id": "gcI7mRhU67Xr",
        "outputId": "3a7f81e4-b9c3-4f12-f9fb-2b2b3f82f269"
      },
      "execution_count": 43,
      "outputs": [
        {
          "output_type": "execute_result",
          "data": {
            "text/plain": [
              "<matplotlib.collections.PathCollection at 0x7e119b072320>"
            ]
          },
          "metadata": {},
          "execution_count": 43
        },
        {
          "output_type": "display_data",
          "data": {
            "text/plain": [
              "<Figure size 640x480 with 1 Axes>"
            ],
            "image/png": "[encoded data removed]"
          },
          "metadata": {}
        }
      ]
    },
    {
      "cell_type": "code",
      "source": [
        "plt.plot(range(900,999), y_reconstruct[0].detach().numpy()[900:999], color=\"red\")\n",
        "plt.scatter(range(900,999),y_test[900:999])\n",
        "plt.show()"
      ],
      "metadata": {
        "colab": {
          "base_uri": "https://localhost:8080/",
          "height": 430
        },
        "id": "nZrWaIRnxUG1",
        "outputId": "d4de03b6-a810-40aa-84df-64e8a46318a6"
      },
      "execution_count": 32,
      "outputs": [
        {
          "output_type": "display_data",
          "data": {
            "text/plain": [
              "<Figure size 640x480 with 1 Axes>"
            ],
            "image/png": "[encoded data removed]"
          },
          "metadata": {}
        }
      ]
    }
  ]
}